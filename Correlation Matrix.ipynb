{
 "cells": [
  {
   "cell_type": "markdown",
   "id": "0cfd957d-7b4c-4367-b8e1-3e7453984bc4",
   "metadata": {},
   "source": [
    "# Notes \n",
    "\n",
    "Hourly Data can only go back 730 Days. If you select Hourly, it will automatically go back as far as possible if you go beyond 730 days in start date field"
   ]
  },
  {
   "cell_type": "code",
   "execution_count": 77,
   "id": "19143590-b7e8-4a2b-ae31-3fea1d2f07e0",
   "metadata": {},
   "outputs": [
    {
     "data": {
      "application/vnd.jupyter.widget-view+json": {
       "model_id": "eee653b73cd946c8b64087f81b7316a5",
       "version_major": 2,
       "version_minor": 0
      },
      "text/plain": [
       "Text(value='SPY', description='Ticker:')"
      ]
     },
     "metadata": {},
     "output_type": "display_data"
    },
    {
     "data": {
      "application/vnd.jupyter.widget-view+json": {
       "model_id": "071c09c25039416286b348c7ecf39a73",
       "version_major": 2,
       "version_minor": 0
      },
      "text/plain": [
       "Text(value='2022-01-01', description='Start Date:')"
      ]
     },
     "metadata": {},
     "output_type": "display_data"
    },
    {
     "data": {
      "application/vnd.jupyter.widget-view+json": {
       "model_id": "19ca0637c491465ba0d1aa08c6a806ea",
       "version_major": 2,
       "version_minor": 0
      },
      "text/plain": [
       "SelectMultiple(description='Time Frame:', index=(1,), options=('1h', '1d', '5d', '1wk', '1mo', '3mo'), value=(…"
      ]
     },
     "metadata": {},
     "output_type": "display_data"
    },
    {
     "data": {
      "application/vnd.jupyter.widget-view+json": {
       "model_id": "b442ef8b8f954f68985699c4b45349d6",
       "version_major": 2,
       "version_minor": 0
      },
      "text/plain": [
       "Button(description='Run Analysis', style=ButtonStyle())"
      ]
     },
     "metadata": {},
     "output_type": "display_data"
    },
    {
     "data": {
      "application/vnd.jupyter.widget-view+json": {
       "model_id": "9cf3aab070c84c3e8d42bddeea10234b",
       "version_major": 2,
       "version_minor": 0
      },
      "text/plain": [
       "Output()"
      ]
     },
     "metadata": {},
     "output_type": "display_data"
    }
   ],
   "source": [
    "import ipywidgets as widgets\n",
    "from IPython.display import display\n",
    "\n",
    "import yfinance as yf\n",
    "import pandas as pd\n",
    "import requests\n",
    "import math\n",
    "import time\n",
    "import seaborn as sns \n",
    "\n",
    "import matplotlib.pyplot as plt\n",
    "\n",
    "from datetime import datetime, timedelta\n",
    "\n",
    "# Widget for the ticker symbol\n",
    "ticker_input = widgets.Text(value='SPY', description='Ticker:',disabled=False)\n",
    "\n",
    "start_year_input = widgets.Text(value='2022-01-01', description='Start Date:', disabled=False)\n",
    "\n",
    "time_frame = widgets.SelectMultiple(options=['1h','1d','5d','1wk','1mo','3mo'], value=['1d'], description='Time Frame:', disabled=False)\n",
    "\n",
    "display(ticker_input, start_year_input, time_frame)\n",
    "\n",
    "button = widgets.Button(description=\"Run Analysis\")\n",
    "output = widgets.Output()\n",
    "\n",
    "display(button, output)\n",
    "\n",
    "def on_button_clicked(b):\n",
    "    # Clear the previous output\n",
    "    output.clear_output()\n",
    "    \n",
    "    # Your code to run when the button is clicked\n",
    "    # Example: print the values from the input widgets\n",
    "    with output:\n",
    "        \n",
    "        if time_frame.value[0] == '1h':\n",
    "            if pd.to_datetime(start_year_input.value) < datetime.now() - timedelta(days=729):\n",
    "                start = (datetime.now() - timedelta(days=729)).strftime('%Y-%m-%d')\n",
    "            else:\n",
    "                start = start_year_input.value\n",
    "        else:\n",
    "            start = start_year_input.value\n",
    "        \n",
    "        tickers = ticker_input.value.replace(' ','').split(',')\n",
    "        \n",
    "        for i, ticker in enumerate(tickers):\n",
    "            df = yf.download(ticker, start=start, end=datetime.now().strftime('%Y-%m-%d'), interval=time_frame.value[0]).reset_index()\n",
    "\n",
    "            if i == 0:\n",
    "                hold = df.rename(columns={'Close':ticker})[[df.columns[0],ticker]].copy()\n",
    "            else:\n",
    "                hold = pd.merge(left=hold, right=df.rename(columns={'Close':ticker})[[df.columns[0],ticker]].copy(), on=df.columns[0], how='left')\n",
    "                \n",
    "        plt.subplots(figsize=(10,10))\n",
    "        sns.heatmap(hold[hold.columns[1:]].corr(), xticklabels=hold[hold.columns[1:]].columns, yticklabels=hold[hold.columns[1:]].columns, vmin=-1, vmax=1, cmap='RdBu', annot=True)\n",
    "        plt.title(f\"Correlation Matrix of Tickers from {start_year_input.value} on {time_frame.value[0]} Time Frame\")\n",
    "        plt.show()\n",
    "            \n",
    "# Link the button to the function\n",
    "button.on_click(on_button_clicked)"
   ]
  },
  {
   "cell_type": "code",
   "execution_count": 75,
   "id": "3f5167a7-3b05-444a-b3dc-7f87d474fa90",
   "metadata": {},
   "outputs": [
    {
     "data": {
      "text/plain": [
       "'AMZN'"
      ]
     },
     "execution_count": 75,
     "metadata": {},
     "output_type": "execute_result"
    }
   ],
   "source": [
    "ticker"
   ]
  },
  {
   "cell_type": "code",
   "execution_count": 76,
   "id": "1974e045-98c2-4b21-aa6f-7c7319087c84",
   "metadata": {},
   "outputs": [
    {
     "data": {
      "text/plain": [
       "['AAPL', 'TSLA', 'MSFT', 'META', 'NVDA', 'AMZN']"
      ]
     },
     "execution_count": 76,
     "metadata": {},
     "output_type": "execute_result"
    }
   ],
   "source": [
    "tickers"
   ]
  },
  {
   "cell_type": "code",
   "execution_count": null,
   "id": "08d8f76f-b79d-4ebd-a2c7-24280f696c70",
   "metadata": {},
   "outputs": [],
   "source": []
  }
 ],
 "metadata": {
  "kernelspec": {
   "display_name": "Python 3 (ipykernel)",
   "language": "python",
   "name": "python3"
  },
  "language_info": {
   "codemirror_mode": {
    "name": "ipython",
    "version": 3
   },
   "file_extension": ".py",
   "mimetype": "text/x-python",
   "name": "python",
   "nbconvert_exporter": "python",
   "pygments_lexer": "ipython3",
   "version": "3.8.5"
  }
 },
 "nbformat": 4,
 "nbformat_minor": 5
}
